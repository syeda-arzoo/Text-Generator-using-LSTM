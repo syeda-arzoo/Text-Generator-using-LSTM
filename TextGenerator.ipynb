{
  "nbformat": 4,
  "nbformat_minor": 0,
  "metadata": {
    "colab": {
      "name": "DL_HW4_que1.ipynb",
      "provenance": [],
      "collapsed_sections": []
    },
    "kernelspec": {
      "name": "python3",
      "display_name": "Python 3"
    },
    "accelerator": "GPU"
  },
  "cells": [
    {
      "cell_type": "code",
      "metadata": {
        "id": "w5k-an9YEtdd",
        "colab_type": "code",
        "colab": {
          "resources": {
            "http://localhost:8080/nbextensions/google.colab/files.js": {
              "data": "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",
              "ok": true,
              "headers": [
                [
                  "content-type",
                  "application/javascript"
                ]
              ],
              "status": 200,
              "status_text": ""
            }
          },
          "base_uri": "https://localhost:8080/",
          "height": 71
        },
        "outputId": "03087d7c-8a5a-4031-efe3-b25450117784"
      },
      "source": [
        "from google.colab import files\n",
        "uploaded = files.upload()"
      ],
      "execution_count": null,
      "outputs": [
        {
          "output_type": "display_data",
          "data": {
            "text/html": [
              "\n",
              "     <input type=\"file\" id=\"files-d107b20c-cfa4-4cac-8213-3bab12aa00af\" name=\"files[]\" multiple disabled />\n",
              "     <output id=\"result-d107b20c-cfa4-4cac-8213-3bab12aa00af\">\n",
              "      Upload widget is only available when the cell has been executed in the\n",
              "      current browser session. Please rerun this cell to enable.\n",
              "      </output>\n",
              "      <script src=\"/nbextensions/google.colab/files.js\"></script> "
            ],
            "text/plain": [
              "<IPython.core.display.HTML object>"
            ]
          },
          "metadata": {
            "tags": []
          }
        },
        {
          "output_type": "stream",
          "text": [
            "Saving text.txt to text.txt\n"
          ],
          "name": "stdout"
        }
      ]
    },
    {
      "cell_type": "code",
      "metadata": {
        "id": "zpL0T88-E-fm",
        "colab_type": "code",
        "colab": {}
      },
      "source": [
        "\n",
        "\n",
        "def load_doc(filename):\n",
        "\t# open the file as read only\n",
        "\tfile = open(filename, 'r')\n",
        "\t# read all text\n",
        "\ttext = file.read()\n",
        "\t# close the file\n",
        "\tfile.close()\n",
        "\treturn text"
      ],
      "execution_count": null,
      "outputs": []
    },
    {
      "cell_type": "code",
      "metadata": {
        "id": "ezsiC7WgLzvk",
        "colab_type": "code",
        "colab": {
          "base_uri": "https://localhost:8080/",
          "height": 54
        },
        "outputId": "5b03c138-9379-42fd-c87a-e0583a1cfd3b"
      },
      "source": [
        "\n",
        "# load document\n",
        "in_filename = 'text.txt'\n",
        "doc = load_doc(in_filename)\n",
        "print(doc[:200])\n"
      ],
      "execution_count": null,
      "outputs": [
        {
          "output_type": "stream",
          "text": [
            "quarterly profits at us media giant timewarner jumped % to $amount £123m for the three months to december , from $amount year earlier . the firm , which is now one of the biggest investors in google ,\n"
          ],
          "name": "stdout"
        }
      ]
    },
    {
      "cell_type": "code",
      "metadata": {
        "id": "JZJxjgHJLCqS",
        "colab_type": "code",
        "colab": {}
      },
      "source": [
        "import string\n",
        " \n",
        "\n",
        "def clean_doc(doc):\n",
        "\t# replace '--' with a space ' '\n",
        "\tdoc = doc.replace('--', ' ')\n",
        "\t# split into tokens by white space\n",
        "\ttokens = doc.split()\n",
        "\t# remove punctuation from each token\n",
        "\ttable = str.maketrans('', '', string.punctuation)\n",
        "\ttokens = [w.translate(table) for w in tokens]\n",
        "\t# remove remaining tokens that are not alphabetic\n",
        "\ttokens = [word for word in tokens if word.isalpha()]\n",
        "\t# make lower case\n",
        "\ttokens = [word.lower() for word in tokens]\n",
        "\treturn tokens"
      ],
      "execution_count": null,
      "outputs": []
    },
    {
      "cell_type": "code",
      "metadata": {
        "id": "vljRyI4ULGGx",
        "colab_type": "code",
        "colab": {
          "base_uri": "https://localhost:8080/",
          "height": 34
        },
        "outputId": "bf81089d-4be5-434a-8b97-d8ff146ee6d8"
      },
      "source": [
        "length = 50 + 1\n",
        "sequences = list()\n",
        "for i in range(length, len(tokens)):\n",
        "\t# select sequence of tokens\n",
        "\tseq = tokens[i-length:i]\n",
        "\t# convert into a line\n",
        "\tline = ' '.join(seq)\n",
        "\t# store\n",
        "\tsequences.append(line)\n",
        "print('Total Sequences: %d' % len(sequences))"
      ],
      "execution_count": null,
      "outputs": [
        {
          "output_type": "stream",
          "text": [
            "Total Sequences: 1763\n"
          ],
          "name": "stdout"
        }
      ]
    },
    {
      "cell_type": "code",
      "metadata": {
        "id": "uoc00ReDLLfQ",
        "colab_type": "code",
        "colab": {}
      },
      "source": [
        "# save tokens to file, one dialog per line\n",
        "def save_doc(lines, filename):\n",
        "\tdata = '\\n'.join(lines)\n",
        "\tfile = open(filename, 'w')\n",
        "\tfile.write(data)\n",
        "\tfile.close()"
      ],
      "execution_count": null,
      "outputs": []
    },
    {
      "cell_type": "code",
      "metadata": {
        "id": "_1Kf-R_jMss9",
        "colab_type": "code",
        "colab": {}
      },
      "source": [
        "# save sequences to file\n",
        "out_filename = 'sequences.txt'\n",
        "save_doc(sequences, out_filename)"
      ],
      "execution_count": null,
      "outputs": []
    },
    {
      "cell_type": "code",
      "metadata": {
        "id": "zplkxYm8OIP0",
        "colab_type": "code",
        "colab": {
          "base_uri": "https://localhost:8080/",
          "height": 1000
        },
        "outputId": "7d5e48cd-72a6-423c-c118-a0a9b4caca44"
      },
      "source": [
        "\n",
        "from numpy import array\n",
        "from pickle import dump\n",
        "from keras.preprocessing.text import Tokenizer\n",
        "from keras.utils import to_categorical\n",
        "from keras.models import Sequential\n",
        "from keras.layers import Dense\n",
        "from keras.layers import LSTM\n",
        "from keras.layers import Embedding\n",
        " \n",
        "# load doc into memory\n",
        "def load_doc(filename):\n",
        "\t# open the file as read only\n",
        "\tfile = open(filename, 'r')\n",
        "\t# read all text\n",
        "\ttext = file.read()\n",
        "\t# close the file\n",
        "\tfile.close()\n",
        "\treturn text\n",
        " \n",
        "# load\n",
        "in_filename = 'sequences.txt'\n",
        "doc = load_doc(in_filename)\n",
        "lines = doc.split('\\n')\n",
        " \n",
        "# integer encode sequences of words\n",
        "tokenizer = Tokenizer()\n",
        "tokenizer.fit_on_texts(lines)\n",
        "sequences = tokenizer.texts_to_sequences(lines)\n",
        "# vocabulary size\n",
        "vocab_size = len(tokenizer.word_index) + 1\n",
        " \n",
        "# separate into input and output\n",
        "sequences = array(sequences)\n",
        "X, y = sequences[:,:-1], sequences[:,-1]\n",
        "y = to_categorical(y, num_classes=vocab_size)\n",
        "seq_length = X.shape[1]\n",
        " \n",
        "# define model\n",
        "model = Sequential()\n",
        "model.add(Embedding(vocab_size, 50, input_length=seq_length))\n",
        "model.add(LSTM(512, return_sequences=False))\n",
        "model.add(Dense(vocab_size, activation='softmax'))\n",
        "\n",
        "# compile model\n",
        "model.compile(loss='categorical_crossentropy', optimizer='adam', metrics=['accuracy'])\n",
        "# fit model\n",
        "model.fit(X, y, batch_size=128, epochs=100)\n",
        " \n",
        "# save the model to file\n",
        "model.save('model.h5')\n",
        "# save the tokenizer\n",
        "dump(tokenizer, open('tokenizer.pkl', 'wb'))"
      ],
      "execution_count": null,
      "outputs": [
        {
          "output_type": "stream",
          "text": [
            "Epoch 1/100\n",
            "1763/1763 [==============================] - 2s 1ms/step - loss: 6.3816 - acc: 0.0459\n",
            "Epoch 2/100\n",
            "1763/1763 [==============================] - 1s 584us/step - loss: 6.0241 - acc: 0.0431\n",
            "Epoch 3/100\n",
            "1763/1763 [==============================] - 1s 585us/step - loss: 5.9142 - acc: 0.0562\n",
            "Epoch 4/100\n",
            "1763/1763 [==============================] - 1s 620us/step - loss: 5.8808 - acc: 0.0562\n",
            "Epoch 5/100\n",
            "1763/1763 [==============================] - 1s 573us/step - loss: 5.8708 - acc: 0.0562\n",
            "Epoch 6/100\n",
            "1763/1763 [==============================] - 1s 596us/step - loss: 5.8592 - acc: 0.0562\n",
            "Epoch 7/100\n",
            "1763/1763 [==============================] - 1s 577us/step - loss: 5.8516 - acc: 0.0562\n",
            "Epoch 8/100\n",
            "1763/1763 [==============================] - 1s 583us/step - loss: 5.8351 - acc: 0.0562\n",
            "Epoch 9/100\n",
            "1763/1763 [==============================] - 1s 599us/step - loss: 5.8689 - acc: 0.0556\n",
            "Epoch 10/100\n",
            "1763/1763 [==============================] - 1s 605us/step - loss: 5.8835 - acc: 0.0516\n",
            "Epoch 11/100\n",
            "1763/1763 [==============================] - 1s 587us/step - loss: 5.7629 - acc: 0.0562\n",
            "Epoch 12/100\n",
            "1763/1763 [==============================] - 1s 596us/step - loss: 5.7422 - acc: 0.0584\n",
            "Epoch 13/100\n",
            "1763/1763 [==============================] - 1s 584us/step - loss: 5.7145 - acc: 0.0635\n",
            "Epoch 14/100\n",
            "1763/1763 [==============================] - 1s 601us/step - loss: 5.6524 - acc: 0.0601\n",
            "Epoch 15/100\n",
            "1763/1763 [==============================] - 1s 605us/step - loss: 5.5964 - acc: 0.0805\n",
            "Epoch 16/100\n",
            "1763/1763 [==============================] - 1s 583us/step - loss: 5.5426 - acc: 0.0703\n",
            "Epoch 17/100\n",
            "1763/1763 [==============================] - 1s 594us/step - loss: 5.4813 - acc: 0.0794\n",
            "Epoch 18/100\n",
            "1763/1763 [==============================] - 1s 586us/step - loss: 5.4142 - acc: 0.0891\n",
            "Epoch 19/100\n",
            "1763/1763 [==============================] - 1s 599us/step - loss: 5.3352 - acc: 0.0908\n",
            "Epoch 20/100\n",
            "1763/1763 [==============================] - 1s 600us/step - loss: 5.2461 - acc: 0.1015\n",
            "Epoch 21/100\n",
            "1763/1763 [==============================] - 1s 594us/step - loss: 5.1396 - acc: 0.1061\n",
            "Epoch 22/100\n",
            "1763/1763 [==============================] - 1s 602us/step - loss: 5.0201 - acc: 0.1078\n",
            "Epoch 23/100\n",
            "1763/1763 [==============================] - 1s 595us/step - loss: 4.8937 - acc: 0.1134\n",
            "Epoch 24/100\n",
            "1763/1763 [==============================] - 1s 587us/step - loss: 4.7547 - acc: 0.1220\n",
            "Epoch 25/100\n",
            "1763/1763 [==============================] - 1s 587us/step - loss: 4.6229 - acc: 0.1237\n",
            "Epoch 26/100\n",
            "1763/1763 [==============================] - 1s 582us/step - loss: 4.4737 - acc: 0.1378\n",
            "Epoch 27/100\n",
            "1763/1763 [==============================] - 1s 601us/step - loss: 4.3179 - acc: 0.1469\n",
            "Epoch 28/100\n",
            "1763/1763 [==============================] - 1s 582us/step - loss: 4.1539 - acc: 0.1594\n",
            "Epoch 29/100\n",
            "1763/1763 [==============================] - 1s 593us/step - loss: 4.0042 - acc: 0.1719\n",
            "Epoch 30/100\n",
            "1763/1763 [==============================] - 1s 586us/step - loss: 3.8267 - acc: 0.1883\n",
            "Epoch 31/100\n",
            "1763/1763 [==============================] - 1s 610us/step - loss: 3.6340 - acc: 0.2223\n",
            "Epoch 32/100\n",
            "1763/1763 [==============================] - 1s 616us/step - loss: 3.4423 - acc: 0.2513\n",
            "Epoch 33/100\n",
            "1763/1763 [==============================] - 1s 584us/step - loss: 3.2432 - acc: 0.3046\n",
            "Epoch 34/100\n",
            "1763/1763 [==============================] - 1s 581us/step - loss: 3.0466 - acc: 0.3596\n",
            "Epoch 35/100\n",
            "1763/1763 [==============================] - 1s 595us/step - loss: 2.8627 - acc: 0.4141\n",
            "Epoch 36/100\n",
            "1763/1763 [==============================] - 1s 582us/step - loss: 2.6660 - acc: 0.4759\n",
            "Epoch 37/100\n",
            "1763/1763 [==============================] - 1s 609us/step - loss: 2.4519 - acc: 0.5286\n",
            "Epoch 38/100\n",
            "1763/1763 [==============================] - 1s 606us/step - loss: 2.2514 - acc: 0.6012\n",
            "Epoch 39/100\n",
            "1763/1763 [==============================] - 1s 611us/step - loss: 2.0688 - acc: 0.6489\n",
            "Epoch 40/100\n",
            "1763/1763 [==============================] - 1s 600us/step - loss: 1.8913 - acc: 0.6846\n",
            "Epoch 41/100\n",
            "1763/1763 [==============================] - 1s 583us/step - loss: 1.7164 - acc: 0.7408\n",
            "Epoch 42/100\n",
            "1763/1763 [==============================] - 1s 593us/step - loss: 1.5437 - acc: 0.7754\n",
            "Epoch 43/100\n",
            "1763/1763 [==============================] - 1s 590us/step - loss: 1.3921 - acc: 0.8054\n",
            "Epoch 44/100\n",
            "1763/1763 [==============================] - 1s 598us/step - loss: 1.2429 - acc: 0.8440\n",
            "Epoch 45/100\n",
            "1763/1763 [==============================] - 1s 587us/step - loss: 1.1085 - acc: 0.8803\n",
            "Epoch 46/100\n",
            "1763/1763 [==============================] - 1s 576us/step - loss: 0.9873 - acc: 0.8996\n",
            "Epoch 47/100\n",
            "1763/1763 [==============================] - 1s 577us/step - loss: 0.8805 - acc: 0.9149\n",
            "Epoch 48/100\n",
            "1763/1763 [==============================] - 1s 582us/step - loss: 0.7752 - acc: 0.9387\n",
            "Epoch 49/100\n",
            "1763/1763 [==============================] - 1s 597us/step - loss: 0.6892 - acc: 0.9563\n",
            "Epoch 50/100\n",
            "1763/1763 [==============================] - 1s 605us/step - loss: 0.6079 - acc: 0.9648\n",
            "Epoch 51/100\n",
            "1763/1763 [==============================] - 1s 603us/step - loss: 0.5295 - acc: 0.9813\n",
            "Epoch 52/100\n",
            "1763/1763 [==============================] - 1s 588us/step - loss: 0.4698 - acc: 0.9853\n",
            "Epoch 53/100\n",
            "1763/1763 [==============================] - 1s 611us/step - loss: 0.4139 - acc: 0.9909\n",
            "Epoch 54/100\n",
            "1763/1763 [==============================] - 1s 601us/step - loss: 0.3647 - acc: 0.9943\n",
            "Epoch 55/100\n",
            "1763/1763 [==============================] - 1s 649us/step - loss: 0.3237 - acc: 0.9943\n",
            "Epoch 56/100\n",
            "1763/1763 [==============================] - 1s 626us/step - loss: 0.2905 - acc: 0.9960\n",
            "Epoch 57/100\n",
            "1763/1763 [==============================] - 1s 605us/step - loss: 0.2593 - acc: 0.9972\n",
            "Epoch 58/100\n",
            "1763/1763 [==============================] - 1s 613us/step - loss: 0.2309 - acc: 0.9977\n",
            "Epoch 59/100\n",
            "1763/1763 [==============================] - 1s 600us/step - loss: 0.2056 - acc: 0.9994\n",
            "Epoch 60/100\n",
            "1763/1763 [==============================] - 1s 607us/step - loss: 0.1909 - acc: 0.9994\n",
            "Epoch 61/100\n",
            "1763/1763 [==============================] - 1s 648us/step - loss: 0.4949 - acc: 0.9648\n",
            "Epoch 62/100\n",
            "1763/1763 [==============================] - 1s 595us/step - loss: 0.4119 - acc: 0.9875\n",
            "Epoch 63/100\n",
            "1763/1763 [==============================] - 1s 585us/step - loss: 0.2641 - acc: 0.9955\n",
            "Epoch 64/100\n",
            "1763/1763 [==============================] - 1s 589us/step - loss: 0.1891 - acc: 1.0000\n",
            "Epoch 65/100\n",
            "1763/1763 [==============================] - 1s 587us/step - loss: 0.1533 - acc: 1.0000\n",
            "Epoch 66/100\n",
            "1763/1763 [==============================] - 1s 608us/step - loss: 0.1644 - acc: 0.9977\n",
            "Epoch 67/100\n",
            "1763/1763 [==============================] - 1s 610us/step - loss: 0.1861 - acc: 1.0000\n",
            "Epoch 68/100\n",
            "1763/1763 [==============================] - 1s 589us/step - loss: 0.1317 - acc: 1.0000\n",
            "Epoch 69/100\n",
            "1763/1763 [==============================] - 1s 587us/step - loss: 0.1087 - acc: 1.0000\n",
            "Epoch 70/100\n",
            "1763/1763 [==============================] - 1s 584us/step - loss: 0.0962 - acc: 1.0000\n",
            "Epoch 71/100\n",
            "1763/1763 [==============================] - 1s 588us/step - loss: 0.0872 - acc: 1.0000\n",
            "Epoch 72/100\n",
            "1763/1763 [==============================] - 1s 598us/step - loss: 0.0809 - acc: 1.0000\n",
            "Epoch 73/100\n",
            "1763/1763 [==============================] - 1s 604us/step - loss: 0.0756 - acc: 1.0000\n",
            "Epoch 74/100\n",
            "1763/1763 [==============================] - 1s 598us/step - loss: 0.0709 - acc: 1.0000\n",
            "Epoch 75/100\n",
            "1763/1763 [==============================] - 1s 581us/step - loss: 0.0669 - acc: 1.0000\n",
            "Epoch 76/100\n",
            "1763/1763 [==============================] - 1s 599us/step - loss: 0.0632 - acc: 1.0000\n",
            "Epoch 77/100\n",
            "1763/1763 [==============================] - 1s 636us/step - loss: 0.0600 - acc: 1.0000\n",
            "Epoch 78/100\n",
            "1763/1763 [==============================] - 1s 615us/step - loss: 0.0571 - acc: 1.0000\n",
            "Epoch 79/100\n",
            "1763/1763 [==============================] - 1s 625us/step - loss: 0.0545 - acc: 1.0000\n",
            "Epoch 80/100\n",
            "1763/1763 [==============================] - 1s 584us/step - loss: 0.0519 - acc: 1.0000\n",
            "Epoch 81/100\n",
            "1763/1763 [==============================] - 1s 588us/step - loss: 0.0498 - acc: 1.0000\n",
            "Epoch 82/100\n",
            "1763/1763 [==============================] - 1s 586us/step - loss: 0.0475 - acc: 1.0000\n",
            "Epoch 83/100\n",
            "1763/1763 [==============================] - 1s 588us/step - loss: 0.0456 - acc: 1.0000\n",
            "Epoch 84/100\n",
            "1763/1763 [==============================] - 1s 574us/step - loss: 0.0438 - acc: 1.0000\n",
            "Epoch 85/100\n",
            "1763/1763 [==============================] - 1s 571us/step - loss: 0.0420 - acc: 1.0000\n",
            "Epoch 86/100\n",
            "1763/1763 [==============================] - 1s 586us/step - loss: 0.0405 - acc: 1.0000\n",
            "Epoch 87/100\n",
            "1763/1763 [==============================] - 1s 586us/step - loss: 0.0390 - acc: 1.0000\n",
            "Epoch 88/100\n",
            "1763/1763 [==============================] - 1s 602us/step - loss: 0.0376 - acc: 1.0000\n",
            "Epoch 89/100\n",
            "1763/1763 [==============================] - 1s 629us/step - loss: 0.0362 - acc: 1.0000\n",
            "Epoch 90/100\n",
            "1763/1763 [==============================] - 1s 589us/step - loss: 0.0350 - acc: 1.0000\n",
            "Epoch 91/100\n",
            "1763/1763 [==============================] - 1s 588us/step - loss: 0.0339 - acc: 1.0000\n",
            "Epoch 92/100\n",
            "1763/1763 [==============================] - 1s 579us/step - loss: 0.0327 - acc: 1.0000\n",
            "Epoch 93/100\n",
            "1763/1763 [==============================] - 1s 582us/step - loss: 0.0317 - acc: 1.0000\n",
            "Epoch 94/100\n",
            "1763/1763 [==============================] - 1s 587us/step - loss: 0.0306 - acc: 1.0000\n",
            "Epoch 95/100\n",
            "1763/1763 [==============================] - 1s 604us/step - loss: 0.0297 - acc: 1.0000\n",
            "Epoch 96/100\n",
            "1763/1763 [==============================] - 1s 596us/step - loss: 0.0288 - acc: 1.0000\n",
            "Epoch 97/100\n",
            "1763/1763 [==============================] - 1s 588us/step - loss: 0.0279 - acc: 1.0000\n",
            "Epoch 98/100\n",
            "1763/1763 [==============================] - 1s 596us/step - loss: 0.0271 - acc: 1.0000\n",
            "Epoch 99/100\n",
            "1763/1763 [==============================] - 1s 592us/step - loss: 0.0263 - acc: 1.0000\n",
            "Epoch 100/100\n",
            "1763/1763 [==============================] - 1s 588us/step - loss: 0.0255 - acc: 1.0000\n"
          ],
          "name": "stdout"
        }
      ]
    },
    {
      "cell_type": "code",
      "metadata": {
        "id": "30hNu4UtOyhV",
        "colab_type": "code",
        "colab": {
          "base_uri": "https://localhost:8080/",
          "height": 54
        },
        "outputId": "0734a095-ce92-43bd-c334-65d7c6b55d70"
      },
      "source": [
        "from random import randint\n",
        "from pickle import load\n",
        "from keras.models import load_model\n",
        "from keras.preprocessing.sequence import pad_sequences\n",
        " \n",
        "# load doc into memory\n",
        "def load_doc(filename):\n",
        "\t# open the file as read only\n",
        "\tfile = open(filename, 'r')\n",
        "\t# read all text\n",
        "\ttext = file.read()\n",
        "\t# close the file\n",
        "\tfile.close()\n",
        "\treturn text\n",
        " \n",
        "# generate a sequence from a language model\n",
        "def generate_seq(model, tokenizer, seq_length, seed_text, n_words):\n",
        "\tresult = list()\n",
        "\tin_text = seed_text\n",
        "\t# generate a fixed number of words\n",
        "\tfor _ in range(n_words):\n",
        "\t\t# encode the text as integer\n",
        "\t\tencoded = tokenizer.texts_to_sequences([in_text])[0]\n",
        "\t\t# truncate sequences to a fixed length\n",
        "\t\tencoded = pad_sequences([encoded], maxlen=seq_length, truncating='pre')\n",
        "\t\t# predict probabilities for each word\n",
        "\t\tyhat = model.predict_classes(encoded, verbose=0)\n",
        "\n",
        "\t\tout_word = ''\n",
        "\t\tfor word, index in tokenizer.word_index.items():\n",
        "\t\t\tif index == yhat:\n",
        "\t\t\t\tout_word = word\n",
        "\t\t\t\tbreak\n",
        "\t\tin_text += ' ' + out_word\n",
        "\t\tresult.append(out_word)\n",
        "\treturn ' '.join(result)\n",
        " \n",
        "\n",
        "in_filename = 'sequences.txt'\n",
        "doc = load_doc(in_filename)\n",
        "lines = doc.split('\\n')\n",
        "seq_length = len(lines[0].split()) - 1\n",
        "\n",
        "model = load_model('model.h5')\n",
        " \n",
        "tokenizer = load(open('tokenizer.pkl', 'rb'))\n",
        " \n",
        "seed_text = lines[randint(0,len(lines))]\n",
        "\n",
        "# generate new text\n",
        "generated = generate_seq(model, tokenizer, seq_length, seed_text, 50)\n",
        "print(generated)"
      ],
      "execution_count": null,
      "outputs": [
        {
          "output_type": "stream",
          "text": [
            "has blamed high fuel prices for a drop in profits reporting its results for the three months to december the airline made a pre tax profit of amount compared with a year earlier rod eddington bas chief executive said the results were respectable in a third quarter when fuel costs\n"
          ],
          "name": "stdout"
        }
      ]
    },
    {
      "cell_type": "code",
      "metadata": {
        "id": "NDqCeWGOQSkW",
        "colab_type": "code",
        "colab": {}
      },
      "source": [
        ""
      ],
      "execution_count": null,
      "outputs": []
    }
  ]
}